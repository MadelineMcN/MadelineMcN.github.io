{
  "cells": [
    {
      "cell_type": "code",
      "execution_count": null,
      "metadata": {},
      "outputs": [],
      "source": [
        "# Import Modules from CRUD python file\n",
        "from rentalListings import rentalListings\n",
        "r = rentalListings()"
      ]
    },
    {
      "cell_type": "code",
      "execution_count": null,
      "metadata": {},
      "outputs": [],
      "source": [
        "# Test read method\n",
        "results = r.read({\"property_type\":\"House\"})\n",
        "print(results)"
      ]
    },
    {
      "cell_type": "code",
      "execution_count": 2,
      "metadata": {},
      "outputs": [],
      "source": [
        "#Test Create method\n",
        "listing = [{\"name\":\"Charming City Views\", \"property_type\":\"House\"]\n",
        "for i in listings:\n",
        "    r.create(i)"
      ]
    },
    {
      "cell_type": "code",
      "execution_count": 6,
      "metadata": {},
      "outputs": [
        {
          "name": "stdout",
          "output_type": "stream",
          "text": [
            "Updated 19 Entries\n"
          ]
        }
      ],
      "source": [
        "#Test update method\n",
        "updated = r.update({\"name\":\"Charming City Views\"}, {\"$set\":{\"name\":\"Mountain-Side Cottage\"}})\n",
        "print(updated)"
      ]
    },
    {
      "cell_type": "code",
      "execution_count": 7,
      "metadata": {},
      "outputs": [
        {
          "name": "stdout",
          "output_type": "stream",
          "text": [
            "Deleted 21\n"
          ]
        }
      ],
      "source": [
        "#Test delete Method\n",
        "#Deleting test data after creating - E\n",
        "deleted = r.delete({\"name\":\"Mountain-Side Cottage\"})\n",
        "print(deleted)"
      ]
    },
    {
      "cell_type": "code",
      "execution_count": null,
      "metadata": {},
      "outputs": [],
      "source": []
    }
  ],
  "metadata": {
    "kernelspec": {
      "display_name": "Python (Pyodide)",
      "language": "python",
      "name": "python"
    },
    "language_info": {
      "codemirror_mode": {
        "name": "python",
        "version": 3
      },
      "file_extension": ".py",
      "mimetype": "text/x-python",
      "name": "python",
      "nbconvert_exporter": "python",
      "pygments_lexer": "ipython3",
      "version": "3.8"
    }
  },
  "nbformat": 4,
  "nbformat_minor": 4
}
